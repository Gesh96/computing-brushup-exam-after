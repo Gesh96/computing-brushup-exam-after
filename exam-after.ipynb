{
 "cells": [
  {
   "cell_type": "markdown",
   "metadata": {
    "ein.tags": "worksheet-0",
    "slideshow": {
     "slide_type": "-"
    }
   },
   "source": [
    "# Problem 1: Data with R"
   ]
  },
  {
   "cell_type": "code",
   "execution_count": 2,
   "metadata": {
    "autoscroll": false,
    "ein.hycell": false,
    "ein.tags": "worksheet-0",
    "slideshow": {
     "slide_type": "-"
    }
   },
   "outputs": [],
   "source": [
    "%load_ext rpy2.ipython"
   ]
  },
  {
   "cell_type": "code",
   "execution_count": 3,
   "metadata": {
    "autoscroll": false,
    "ein.hycell": false,
    "ein.tags": "worksheet-0",
    "slideshow": {
     "slide_type": "-"
    }
   },
   "outputs": [
    {
     "name": "stderr",
     "output_type": "stream",
     "text": [
      "/opt/conda/lib/python3.6/site-packages/rpy2/rinterface/__init__.py:186: RRuntimeWarning: Loading tidyverse: ggplot2\n",
      "Loading tidyverse: tibble\n",
      "Loading tidyverse: tidyr\n",
      "Loading tidyverse: readr\n",
      "Loading tidyverse: purrr\n",
      "Loading tidyverse: dplyr\n",
      "\n",
      "  warnings.warn(x, RRuntimeWarning)\n",
      "/opt/conda/lib/python3.6/site-packages/rpy2/rinterface/__init__.py:186: RRuntimeWarning: Conflicts with tidy packages ---------------------------------------------------\n",
      "\n",
      "  warnings.warn(x, RRuntimeWarning)\n",
      "/opt/conda/lib/python3.6/site-packages/rpy2/rinterface/__init__.py:186: RRuntimeWarning: filter(): dplyr, stats\n",
      "lag():    dplyr, stats\n",
      "\n",
      "  warnings.warn(x, RRuntimeWarning)\n"
     ]
    }
   ],
   "source": [
    "%%R\n",
    "\n",
    "library(tidyverse)"
   ]
  },
  {
   "cell_type": "code",
   "execution_count": 4,
   "metadata": {
    "autoscroll": false,
    "ein.hycell": false,
    "ein.tags": "worksheet-0",
    "slideshow": {
     "slide_type": "-"
    }
   },
   "outputs": [
    {
     "name": "stderr",
     "output_type": "stream",
     "text": [
      "/opt/conda/lib/python3.6/site-packages/rpy2/rinterface/__init__.py:186: RRuntimeWarning: Parsed with column specification:\n",
      "cols(\n",
      "  X = col_double(),\n",
      "  label = col_integer()\n",
      ")\n",
      "\n",
      "  warnings.warn(x, RRuntimeWarning)\n"
     ]
    }
   ],
   "source": [
    "%%R\n",
    "# make sure to get your data in the same folder, next to the notebook file\n",
    "# so that this will run!\n",
    "\n",
    "\n",
    "dat <- read_csv('classification_data.csv')"
   ]
  },
  {
   "cell_type": "code",
   "execution_count": 30,
   "metadata": {
    "autoscroll": false,
    "ein.hycell": false,
    "ein.tags": "worksheet-0",
    "slideshow": {
     "slide_type": "-"
    }
   },
   "outputs": [
    {
     "data": {
      "image/png": "[encoded data removed]"
     },
     "metadata": {},
     "output_type": "display_data"
    }
   ],
   "source": [
    "%%R\n",
    "\n",
    "\n",
    "\n",
    "# First, we turn our \"matrix\" of data to a data frame, so that ggplot would be happy:\n",
    "df <- as.data.frame(dat)\n",
    "\n",
    "\n",
    "# Now we plot using X as an x-axis and we group the X-s by label, colouring the different labels differently:\n",
    "ggplot(df, aes(x=X)) + geom_density(aes(group=label, colour=label))\n",
    "\n",
    "\n",
    "# Your data consists of an \"X\" column and a \"label\" column\n",
    "# Use ggplot to plot a kernel density estimate of each label (overlayed on the same plot)\n",
    "# hint: don't forget to make sure the labels are factors!\n",
    "\n"
   ]
  },
  {
   "cell_type": "markdown",
   "metadata": {
    "ein.tags": "worksheet-0",
    "slideshow": {
     "slide_type": "-"
    }
   },
   "source": [
    "# Problem 2: Using Classes in Python"
   ]
  },
  {
   "cell_type": "code",
   "execution_count": 31,
   "metadata": {
    "autoscroll": false,
    "ein.hycell": false,
    "ein.tags": "worksheet-0",
    "slideshow": {
     "slide_type": "-"
    }
   },
   "outputs": [],
   "source": [
    "from abc import ABC, abstractmethod\n",
    "from math import sqrt\n",
    "\n",
    "def smart_zip(a,b):\n",
    "    try:\n",
    "        return zip(a, b)\n",
    "    except TypeError:\n",
    "        return zip([a], [b])\n",
    "\n",
    "class AbstractKNeighbors(ABC):\n",
    "    def __init__(self, K):\n",
    "        self.K = K\n",
    "\n",
    "    def fit(self, X, y):\n",
    "        \"\"\" Train the model!\n",
    "\n",
    "        X should be a list of data points\n",
    "        y should be a list of labels\n",
    "        \"\"\"\n",
    "        self.X = X\n",
    "        self.y = y\n",
    "        return self\n",
    "\n",
    "    @abstractmethod\n",
    "    def _make_prediction(self, labels):\n",
    "        pass\n",
    "\n",
    "    def predict(self, new_x):\n",
    "        \"\"\"Find the nearest K neighbors\n",
    "        \n",
    "        new_x should be a single data point\n",
    "        \"\"\"\n",
    "\n",
    "        dists = [sqrt(sum(([(i-j)**2 for i,j in smart_zip(x,new_x)])))\n",
    "                 for x in self.X]\n",
    "        sorted_neighbors = sorted(enumerate(dists),\n",
    "                                  key=lambda t: t[1])\n",
    "        labels = [self.y[i] for i,_ in sorted_neighbors]\n",
    "        return self._make_prediction(labels)\n",
    "\n",
    "\n",
    "class KNearestNeighbors(AbstractKNeighbors):\n",
    "    def _make_prediction(self, labels):\n",
    "        avg = sum(labels[:self.K])/self.K\n",
    "        return round(avg)\n",
    "\n",
    "class KFurthestNeighbors(AbstractKNeighbors):\n",
    "    def _make_prediction(self, labels):\n",
    "        avg = sum(labels[-self.K:])/self.K\n",
    "        return round(1 - avg)"
   ]
  },
  {
   "cell_type": "code",
   "execution_count": 32,
   "metadata": {
    "autoscroll": false,
    "ein.hycell": false,
    "ein.tags": "worksheet-0",
    "slideshow": {
     "slide_type": "-"
    }
   },
   "outputs": [],
   "source": [
    "from csv import reader\n",
    "\n",
    "with open('classification_data.csv', 'r') as f:\n",
    "    dat = list(reader(f))[1:]\n",
    "    dat = [[float(x), int(label)] for x,label in dat]"
   ]
  },
  {
   "cell_type": "markdown",
   "metadata": {
    "ein.tags": "worksheet-0",
    "slideshow": {
     "slide_type": "-"
    }
   },
   "source": [
    "## Problem 2.1: Shuffling!"
   ]
  },
  {
   "cell_type": "code",
   "execution_count": 34,
   "metadata": {
    "autoscroll": false,
    "ein.hycell": false,
    "ein.tags": "worksheet-0",
    "slideshow": {
     "slide_type": "-"
    }
   },
   "outputs": [
    {
     "name": "stdout",
     "output_type": "stream",
     "text": [
      "[[-1.8501841232812422, 1], [2.125561369079985, 0], [-3.1172915455517147, 0], [-2.182004305819434, 0], [0.3337009447676118, 1], [1.981048176718918, 0], [5.106612788828363, 1], [-3.3565634861759746, 1], [-2.730135384654908, 1], [-1.3045408090446569, 0], [0.5714502685597682, 1], [-0.6350037501727901, 1], [2.0656086807361707, 1], [0.7463424899874371, 1], [4.993798975712915, 0], [1.977064952534832, 0], [1.6876002946126785, 1], [-2.840823354977209, 1], [-4.890095192777308, 1], [1.3881227803537368, 0], [2.268472337589985, 0], [2.8427968825597443, 0], [0.7482588017509331, 0], [-3.8953040740856824, 1], [2.738383515220932, 0], [2.8580869794262522, 0], [3.7633867025348344, 0], [-0.3878196276428961, 1], [0.23632440611254957, 1], [-0.7632882754845136, 1], [1.167770349614657, 0], [-0.584157566979947, 1], [2.41264501060219, 0], [0.34037659767191486, 1], [1.7173216486575686, 1], [2.036106217339574, 0], [1.440949367896684, 0], [-0.3812760970233029, 0], [-1.773774820903951, 1], [3.499638498576325, 0], [1.2080839371353602, 0], [0.9037651011846071, 0], [-1.789611112830296, 1], [-1.9585457732917968, 1], [-1.2235701675700457, 1], [0.963473553070185, 0], [-2.47733441010646, 1], [2.4575737463101452, 0], [1.76345468747812, 1], [-5.534068363918393, 1], [-7.940889331497907, 1], [-0.5085992156401316, 1], [0.34727551847582316, 1], [1.9596718289222013, 0], [1.8388244366485365, 0], [0.06951420837039146, 0], [-0.26973032855768064, 0], [-1.708189107607935, 0], [2.250747893344162, 1], [0.4607719018897578, 0], [1.3573186464033458, 0], [0.65154563780577, 1], [6.515546103103287, 0], [5.02426459364294, 1], [-6.42369926186037, 1], [6.073744644450936, 1], [-0.5744990867347419, 0], [2.7859250960504536, 0], [-1.5295514911918087, 1], [3.785110513895109, 0], [3.75575595688977, 1], [1.7822041328565486, 1], [-2.6841924558683483, 1], [-0.37814365992606236, 0], [2.697333387229297, 0], [-2.322320218551978, 0], [0.17388909950264386, 1], [0.8911856170369048, 0], [-0.7691246996053819, 1], [0.646794890721955, 0], [-5.571607967190319, 1], [-2.6801417783121035, 1], [4.341559187594662, 0], [-0.2614460510929182, 0], [0.5081307515000735, 0], [3.367411791174433, 0], [2.8623947123084497, 0], [6.417892447818211, 0], [4.913398422378823, 1], [3.6828132395636604, 0], [4.961606965879879, 0], [2.7309005563942503, 0], [-1.078539158573073, 1], [-2.1589036565814235, 0], [0.11510022255128782, 0], [2.11024309795786, 1], [2.294880894698525, 0], [-1.2454112600695728, 0], [4.612395316548438, 1], [0.2792908857909939, 1], [5.681874307159395, 1], [0.4793106992178875, 0], [1.9483373470116698, 0], [0.3802770453049229, 1], [0.7199245064413375, 1], [-0.9892901056128536, 0], [1.229936471930439, 0], [1.07327318225092, 1], [1.003073067553923, 0], [5.917652771180965, 0], [0.5729730900253096, 1], [2.2963257055178654, 0], [2.680333811571452, 0], [2.035466619001156, 0], [2.4375736767650316, 0], [1.7809549526499968, 0], [-0.36799323379095217, 1], [5.543828355118314, 0], [2.7603668269976662, 0], [2.5070578362579146, 0], [0.19743156264035355, 0], [-5.666565929596971, 1], [1.156977367544541, 0], [-2.0290989445765506, 1], [5.359859309844188, 1], [-1.4742207949592276, 0], [4.1151202593523735, 0], [2.3298419703380877, 0], [-2.0688794658631267, 1], [4.764958237225746, 0], [-4.657640994338468, 1], [-3.345400250911834, 1], [-0.29479941585015434, 1], [-5.385981678472461, 1], [3.092456915960364, 0], [4.209019449608258, 0], [0.5140536170655325, 1], [-1.2444317774161926, 1], [1.0211785021684068, 1], [2.0831222749006697, 0], [1.2962310930578917, 0], [-3.854108943288858, 1], [1.9043278715994951, 0], [-3.813766243974405, 1], [0.7681761486698868, 0], [5.1690443585075005, 0], [4.152972419107066, 0], [2.1641980428645016, 1], [-3.140073991796137, 1], [2.2408444640384557, 0], [-2.086813662757523, 1], [0.6631246413758718, 0], [1.8994124121641933, 1], [0.4423724749681446, 1], [0.7115306201040714, 1], [6.839335518138163, 0], [-7.683117159761189, 1], [3.6237891517425647, 0], [-7.580892272102961, 1], [-1.9748839339343218, 1], [-2.13685642662312, 0], [2.606467125979327, 0], [-7.735093267932426, 1], [3.258251243899071, 0], [-3.133182949404637, 1], [-0.43951040785720563, 0], [2.9412983606143883, 1], [4.779737097912888, 1], [4.656774199199251, 0], [-0.18038694599286087, 0], [-2.5833570006796567, 0], [-1.0291223197921315, 0], [-2.1050197487342084, 0], [-4.429479295241055, 1], [3.1775785674964574, 1], [0.8391388767857724, 0], [3.903548788112925, 0], [-0.5547914210975184, 1], [4.243220343717827, 0], [-0.6987064338631228, 0], [-0.6328722104882281, 0], [-5.179056867999167, 1], [-4.5586802886084135, 1], [3.333037391533341, 0], [3.675420340577735, 0], [0.9616625726034538, 0], [0.6962162864893127, 0], [4.289621326845197, 0], [0.7875154230613004, 1], [2.3068655924088297, 0], [-3.274701956275984, 1], [2.601755245069283, 0], [5.556547160309504, 1], [-0.7829022533954001, 1], [4.309891390817572, 0], [2.4266100044810397, 0], [0.24407756248588441, 1], [2.1848669171461226, 0], [2.452921070268159, 1], [-7.983835199216159, 1], [5.226022325487157, 0], [5.215188127928933, 0], [2.5582711953006285, 0], [0.42961014382784857, 1], [-4.369137760617295, 1], [2.605400698211083, 0], [-0.38138764039928696, 1], [-2.1822588357372394, 1], [3.0058247534544185, 0], [0.2779794336564143, 1], [4.517251239668484, 1], [-2.4721496649012185, 1], [0.6826463369062699, 1], [0.13270701956526643, 1], [-0.4413115736452038, 1], [0.41206447036719074, 1], [2.0303096546600674, 1], [1.9483552867803047, 1], [0.8449614992644543, 0], [3.0209804798489577, 0], [2.258144113191521, 0], [-2.9867532487563597, 1], [0.0948440795360479, 0], [2.1100656998999603, 0], [0.7599949074572425, 1], [1.9248657131609075, 0], [-2.4791900139572522, 1], [-0.5519947001001322, 0], [0.35452486074504863, 0], [1.9929710454555745, 0], [4.393277523630752, 0], [6.239090058419334, 1], [1.9793093778316837, 0], [6.119113855360122, 0], [2.55209752651432, 0], [5.471098421717901, 0], [-1.241001002371202, 1], [-1.7565563537509252, 1], [-1.885272211588096, 1], [-3.3822990734146647, 1], [1.1011943154104658, 0], [-0.9423335001024518, 1], [-1.363399900743133, 1], [-1.7349947037920546, 1], [-3.691876211375871, 1], [1.2315590617372352, 1], [-5.428303607386255, 1], [-0.7163662254859144, 1], [4.21585514134166, 0], [2.145102242148865, 0], [-3.6235222942074934, 1], [-1.1780187427011133, 0], [1.4217043106622305, 0], [-0.3272984310753201, 1], [2.9625942401624883, 1], [-0.9756110479998613, 1], [2.4442365950466516, 0], [-1.1050212074362658, 0], [1.491055413380272, 1], [2.5669934923445488, 0], [1.607669966156605, 1], [-0.9548611962110026, 1], [2.5006439140481547, 1], [-0.550505235539919, 1], [7.149411819471178, 0], [2.9319032781295693, 0], [0.2070762533691599, 1], [1.2505173130091036, 0], [1.569572398107115, 0], [2.312774412846026, 1], [4.470194808398365, 0], [-5.468024400816589, 1], [-4.196159868915131, 1], [1.7374733524561625, 0], [-2.4710414638346005, 1], [-3.0984532757304444, 1], [4.301986992937459, 0], [3.026685717212092, 0], [-8.544669134974075, 1], [2.2277758408935493, 0], [0.05800676629594537, 1], [0.535204043331087, 1], [1.9133365142151368, 0], [-0.12958010737132475, 1], [2.756167282688504, 0], [2.678885385525184, 0], [2.6761499476484416, 0], [2.1155318312967566, 0], [-6.653460529736507, 1], [-6.419893661092217, 1], [4.251591928853145, 0], [3.94745962115452, 1], [3.446858624907187, 0], [1.8544472407162407, 0], [-0.29152921632799966, 0], [-2.188793181622093, 1], [-0.8087825904503276, 0], [3.6033774483309773, 0], [1.9468737318884288, 0], [-0.44402679662983546, 0], [7.394755558505678, 0], [4.197146738328364, 1], [-2.9145985888394543, 1], [-0.1436614032966359, 1], [-3.6544778091494265, 1], [0.09908367657853456, 0], [-3.330710220295792, 1], [4.605299116449604, 0], [-1.9145674585827295, 1], [-7.509801000547203, 1], [3.917504456742096, 1], [-0.997795127303397, 1], [-1.1776615079285357, 0], [0.9034389723246239, 1], [2.9845153742484465, 1], [1.1771293347254321, 1], [0.29920741011431606, 0], [0.8886329354028268, 1], [0.6608374195759716, 0], [-0.662178677222331, 1], [5.951186069679705, 0], [-1.7382394358436648, 1], [3.4953723155004672, 0], [1.9524041274860637, 0], [4.202865702321242, 0], [-1.3259826261416974, 1], [-3.1837714688343874, 1], [0.6570275755383994, 0], [-1.7386281035066748, 1], [3.59010263404849, 0], [2.7012623434212717, 1], [2.2091176130847043, 0], [-0.526405422542886, 1], [-2.639330915663074, 1], [-0.8283809592313318, 0], [-3.5486551041379935, 1], [0.5262875083941263, 0], [-1.6273241731359092, 1], [1.1552690065637954, 1], [6.5794071310808375, 0], [-2.255017313125457, 1], [2.84004920590929, 0], [-1.164068138103106, 1], [0.21899516589037948, 1], [3.8821597461027153, 1], [-7.07796811068888, 1], [0.9531766033421185, 1], [1.7020747218661125, 0], [0.8908502293678233, 1], [1.3956787877215158, 1], [-5.148647943840814, 1], [-0.9960850825498907, 1], [0.8592556643031606, 1], [6.391044675903164, 1], [3.7898745590995095, 0], [6.354097481646269, 1], [1.708266199403178, 0], [-1.3751297761001913, 1], [0.7365898902497015, 0], [-0.2815325714130683, 0], [-0.41319748122297906, 1], [-0.1877633859491079, 1], [3.7053101273873175, 0], [-2.847491953806574, 1], [-3.9968412607047155, 1], [2.6282502550277567, 1], [3.362962787403635, 1], [-5.944435998951743, 1], [3.2454061563690977, 0], [-0.8071546047805382, 0], [3.831749834697768, 0], [2.8805133895467088, 0], [-2.818900130973865, 1], [1.6124858474946926, 0], [-1.3922436214151406, 1], [1.0773828281345486, 1], [-0.15149090768658757, 1], [1.5900807874652934, 1], [-0.2766471896379099, 1], [4.084924891465086, 0], [3.56041036498233, 0], [-2.5565332358634247, 1], [3.5730621328724634, 0], [1.3339260471690881, 0], [2.3670683355520694, 1], [-6.264856352595013, 1], [-1.3747379192814737, 1], [4.1710400577362865, 0], [1.8761973447657547, 0], [1.0270044792985975, 0], [-2.722813381753294, 1], [1.6938670557932882, 1], [-2.222602998691227, 1], [-0.557249226332617, 1], [-4.590733010256797, 1], [2.335391618715405, 0], [-0.0006518413497960118, 0], [-0.748736638717522, 0], [2.100570001417429, 0], [-1.0439144288878603, 0], [5.060174783502949, 0], [1.2979195299961905, 0], [-0.050980952767453847, 1], [0.1855452218568443, 0], [-1.9503460283433345, 1], [0.6575250960976373, 1], [-1.631552087546391, 1], [-0.21367294346653865, 1], [-2.066676925032856, 1], [3.4977514996031447, 0], [1.1955001221099024, 0], [1.658058844171657, 0], [3.6942264180002535, 0], [2.460710942935767, 0], [0.2182119510176046, 0], [-1.3514879095053527, 1], [-5.994820876606491, 1], [0.26191862667279175, 1], [-0.09208233496647611, 1], [-0.8960554968416328, 1], [2.6936819362572706, 0], [0.9838660893261302, 0], [0.7387798483391128, 1], [0.5976636847751262, 1], [4.687314635826766, 1], [1.3669482924503906, 0], [2.3547306652787845, 0], [-0.0808957592428462, 1], [-4.3476670076319, 1], [-2.09493951848217, 1], [-1.327015827206545, 1], [0.04441569150235258, 1], [-0.02740676981897394, 1], [5.322345765218072, 0], [1.3025652459317603, 0], [-0.07559322605651797, 0], [-0.17296267405218624, 1], [-1.6580173394760198, 1], [0.426098806064118, 0], [-2.9392179249659365, 1], [1.6647431750633035, 0], [4.047286663036722, 0], [1.7319445187739042, 0], [1.6412352025263535, 0], [3.598431436849572, 0], [-0.4684002024988576, 0], [0.4192473993834649, 1], [-2.609162580561177, 1], [2.9205242451318894, 0], [4.682826042149369, 0], [-0.17349792852170642, 0], [0.5421012018557412, 0], [2.7052908508193383, 0], [1.5826004702644036, 1], [-2.2469998062891237, 1], [1.1226751447384409, 1], [-2.776176841285655, 1], [2.4581158420679223, 1], [2.460463774566515, 0], [0.4638960512010686, 1], [1.3986725288432464, 0], [2.999326731179425, 0], [1.8158907333302765, 0], [2.7170632366172347, 1], [3.5226527282790148, 0], [3.2084028526845287, 0], [1.957400232852721, 1], [1.597793787913517, 1], [1.4055367380219255, 0], [3.930257115228703, 0], [1.8539852238995658, 1], [2.037146236535045, 1], [2.8241058037087887, 1], [-0.5779555228185553, 0], [3.355613840041166, 0], [5.166809288768791, 1], [-0.45794091929866343, 1], [2.259284329539627, 0], [-8.32092678014754, 1], [1.5457267163245665, 0], [-2.335763569062687, 1], [6.011219558926496, 0], [1.7480375619159332, 0], [-0.8906763142402088, 1], [0.22054582872902007, 1], [3.627821489479345, 0], [-1.0283677885880778, 1], [-6.901162522299769, 1], [0.8810400716313105, 0], [-0.7284679130177931, 1], [0.1255057716759076, 0], [0.2662564314977094, 0], [-1.093203937359787, 0], [-0.3344745556494404, 0], [-2.626742711904975, 1], [4.568510389548891, 0], [-0.6274948870082606, 0], [-3.2607451294398833, 1], [-8.388819512828473, 1], [-1.1639157002610738, 1], [6.016406445046341, 0], [-3.5495528330693578, 1], [-5.691304297411603, 1], [-0.803102988962689, 1], [1.6834938241487376, 0], [1.4148944257796074, 1], [1.9203409843761932, 0], [0.9353156485983887, 0], [2.3531904645085993, 1], [-0.7719882519639125, 1], [1.706844050018611, 0], [-0.29698052019171506, 0], [2.23120834171167, 0], [-4.283874023282723, 1], [-2.0880856199145157, 0], [-1.2705922346350085, 1], [-0.9725178197496849, 1], [-1.3550020384763122, 0], [1.6430940328867671, 0], [-1.0854010197731676, 0], [1.7359314717192547, 1], [-4.5060606585485825, 1], [1.026803747220366, 0], [-2.1343280863410596, 1], [-1.0529548728669724, 1], [1.6823451898598814, 1], [2.994830906071469, 0], [3.4367954203924818, 0], [0.8348239936181097, 0], [6.324572549383945, 0], [2.598544786091299, 0], [-0.7977907590045186, 1], [2.130441028634921, 0], [-5.646534489456365, 1], [-0.6027357023599333, 0], [-3.160585997288459, 1], [-0.3203101738244831, 1], [3.0595265243490033, 1], [-11.019480165804335, 1], [2.654562450744331, 0], [-3.5825493682689604, 1], [-2.3296155705668378, 1], [-1.877956073736342, 1], [-4.54748271729568, 1], [-2.2467346239793784, 1], [-3.3397384079492403, 0], [0.4813512717394468, 1], [-0.7382259302817056, 1], [3.9191972181602464, 0], [2.374742088529773, 0], [-0.8519531057850414, 1], [6.1410844278502825, 1], [-1.6197299451187264, 1], [-2.9355940305255954, 1], [4.193809261024717, 0], [4.18689292502294, 1], [-1.3497184860279954, 0], [-3.2145968511150924, 0], [2.039209604757846, 0], [2.7819609546896302, 0], [3.9770533472361205, 0], [-0.3240022498428671, 1], [0.35473574998695945, 1], [4.009249660621473, 0], [0.5402481667590708, 1], [2.3019998463088114, 0], [-0.9597551333324171, 1], [-2.0816652069463215, 1], [3.463726510547595, 0], [0.6568636752887917, 0], [-1.7228290343073478, 1], [0.6032373621610372, 1], [3.185840220513124, 0], [2.1598704362944066, 1], [1.8759373547881781, 0], [-9.763935077276724, 1], [1.2274056730280465, 0], [6.110741586489869, 1], [-3.6402982728576103, 1], [4.816995610813507, 1], [0.6902944720927202, 1], [3.1026722935721223, 1], [1.7194220796502688, 1], [-1.0277014832433444, 0], [-5.8406412916449195, 1], [-2.4147030548762825, 1], [4.879477484514744, 0], [-0.5808575047769842, 1], [3.3882583074963395, 0], [3.293785297011368, 0], [3.6918292711937535, 0], [-3.1511706291883543, 0], [-3.753242181870463, 1], [0.9092033809977633, 0], [4.104418670642652, 0], [1.3242895679335782, 0], [0.4063338498506064, 0], [0.4488950146741837, 1], [1.040794988582034, 0], [-0.14504634104687986, 0], [-3.9085244750512427, 1], [1.6818018961607766, 0], [4.0729578278036485, 0], [6.424045507615749, 0], [-3.5002654927838464, 1], [-5.6634994351582, 1], [-6.1651680980372925, 1], [5.424689225722013, 0], [2.8885859611647744, 0], [1.0873617842783294, 1], [-3.1657161945303858, 1], [1.160790199200993, 0], [5.158404657809678, 1], [3.726398704722564, 0], [1.006041848401347, 0], [3.173046045225896, 0], [2.474937367506108, 0], [6.415676624917036, 0], [-0.3943195372951407, 0], [1.5614562489040773, 0], [2.189970302301491, 0], [-5.916893214358614, 1], [-0.9246310557712693, 1], [2.9606239325347556, 0], [2.3174187232559134, 0], [-2.26244226120225, 1], [5.510643707574443, 0], [0.31274962781510496, 0], [-2.3164922401287886, 1], [0.9540999708420179, 1], [1.7001127866154562, 1], [-6.810460827859048, 1], [-2.2057206749088016, 1], [1.7009057483560346, 0], [2.3520761563892973, 0], [-3.8309965774398087, 1], [2.0965504610118244, 0], [-2.0206036906563507, 1], [-4.813264095293845, 1], [3.1622319391789477, 0], [-1.403590699252923, 0], [-0.2752020117725411, 1], [-2.9600822357561674, 1], [-4.271930356859123, 1], [5.465960747113644, 0], [2.7669571731932687, 0], [0.8631917755200313, 0], [-2.7280952060908272, 1], [2.461919773030365, 0], [2.354916889160782, 1], [1.9027358270579589, 1], [0.2431472740059173, 0], [1.7730668180404086, 0], [-0.65254563012455, 1], [0.7863943711999, 0], [7.060965960730799, 1], [1.3671984411458817, 1], [1.2516531725765248, 0], [-11.310429264267142, 1], [-0.7100172545839761, 1], [2.0977555011411138, 0], [2.0121740525362206, 0], [0.5961623460968335, 1], [1.4710002487477172, 0], [3.552513194676888, 0], [-1.234331908621074, 1], [1.9780447091283786, 0], [-0.9233677817894359, 1], [1.8303426020132614, 0], [-1.8700634218567669, 1], [-0.6326850118572966, 1], [-1.3145274480588651, 0], [1.9152521415403263, 0], [-3.3635213462059284, 0], [3.1870215636376944, 1], [2.788914881891162, 0], [1.274070225336518, 0], [4.205654049520634, 0], [2.358544270246075, 0], [-0.5326357672851524, 1], [1.3756418149314498, 0], [2.6281078883576656, 0], [5.116742821380203, 0], [-2.3314977143050855, 1], [-4.1826603931760244, 1], [-0.44046254294419196, 0], [5.499777026369838, 0], [-1.2877836567969632, 1], [2.9785405249184977, 0], [0.7890378592896767, 0], [4.144779353953661, 0], [-1.038817931444289, 1], [-7.884701758584267, 1], [1.2098884707377664, 1], [2.5357400232688994, 0], [-0.2754874963042018, 1], [-1.1033975101735354, 1], [-5.419661231130864, 1], [2.247945836200624, 0], [4.554197258870787, 1], [0.9980292150709729, 1], [1.8533395762115095, 0], [0.673250541997851, 1], [2.9709526003236735, 0], [-4.563654584136939, 1], [1.6041162885240914, 0], [0.3380291831924067, 1], [4.834621832618429, 0], [-3.2412297324853663, 1], [4.546706494245249, 1], [6.233424162791945, 0], [0.10958712595589937, 0], [2.6633275622964288, 1], [-0.0034466284431724503, 0], [4.406163099607436, 1], [-0.9368965835371504, 1], [-0.6058272697867406, 0], [0.9291275522790268, 1], [3.360004562621029, 1], [3.424953827976971, 0], [2.8835286952920196, 1], [4.201337655421225, 1], [-0.9624378724332026, 0], [2.21024053499907, 1], [2.6076652013525248, 0], [9.306811911534988, 0], [2.508567708376467, 0], [4.686525219278568, 0], [4.872102113793451, 0], [-3.203483507316318, 1], [1.7009194360824087, 1], [-3.6164641484227804, 1], [1.0714903740711137, 0], [0.9633122641416179, 0], [-3.244307243383324, 1], [2.4650401245997813, 1], [-5.929049750859848, 1], [0.3884179592790469, 0], [-0.8066656267182922, 1], [1.856923683627106, 0], [0.6429196000643584, 1], [5.669367528703831, 0], [1.3489559456478246, 0], [-3.723194562507256, 1], [-0.8460386301924194, 1], [3.210479734887623, 0], [1.1569736565201412, 1], [0.2057112754305761, 0], [2.843853142881426, 0], [4.5900648963190935, 0], [-2.8732056097983802, 1], [1.2808443095945918, 1], [1.3078968962069828, 0], [0.152609735201247, 0], [-0.26884042122577956, 0], [-1.2516660683986724, 1], [5.781853379730526, 0], [-4.69275446353382, 1], [0.8784206088527555, 1], [5.637912489097795, 1], [3.4346007912726053, 0], [3.0473266511020625, 0], [1.1906829744018306, 0], [-0.44710138374942243, 0], [3.0059695319764064, 1], [2.0171680284808553, 1], [1.710564728963808, 0], [1.7792134190591424, 1], [-1.717407577034496, 1], [2.5477351182320818, 0], [-1.1179384320849142, 1], [-3.04821549216643, 1], [1.6079119871696674, 1], [2.035695238077361, 0], [3.479818680067316, 1], [2.5749997320726417, 0], [4.792327327745093, 1], [-4.764791182400772, 1], [-0.25594290872299874, 0], [3.2592395528793725, 1], [-0.8649025292323973, 1], [0.13272072063652507, 0], [-3.6280819490620964, 1], [3.851065673461741, 0], [-0.14715193544011962, 0], [-1.6869067678834844, 1], [0.5610865931535274, 0], [0.5396597754593973, 1], [-0.11718887667672684, 0], [-5.26191057688173, 1], [0.2550502738167042, 1], [-1.5649525209097637, 0], [2.7297684826788347, 0], [2.600149966272811, 0], [-3.9468247919435147, 1], [0.32773214096758707, 0], [1.5008748990572471, 0], [-0.2687089100283302, 1], [-2.2721822408843257, 1], [1.0564829647915244, 0], [0.48971029075118966, 0], [7.583754878351286, 0], [5.085698524829851, 0], [3.2203649515154966, 0], [-0.8624726446716859, 1], [-4.33253846159518, 1], [0.6501274587500439, 1], [3.486019818013162, 1], [0.11872064472575228, 0], [7.2782226004466555, 0], [-0.7424142791856214, 0], [-2.721218003491515, 1], [-2.6498703707394133, 1], [1.3611860130036586, 0], [1.2257420306482834, 0], [3.5003002586761696, 1], [-5.597634116448299, 1], [-5.436894499882553, 1], [1.0274071161582405, 0], [-4.794641117656254, 1], [5.485184670658992, 0], [0.6258650956288303, 1], [1.1023266507562597, 0], [1.819126188271529, 0], [1.352591902056163, 1], [6.281183679223542, 0], [2.0499587595970556, 1], [4.1105950392617014, 0], [2.3988248742926817, 0], [-1.9558231103622092, 1], [2.2381880027341023, 1], [2.9402679797829254, 0], [3.4494075114993477, 1], [2.225358551342067, 1], [-9.025686224126156, 1], [-2.1640961525752114, 1], [0.47933707613515786, 1], [2.8462407491116197, 1], [-4.876036661659118, 1], [6.712015521058599, 1], [4.693852175453943, 0], [3.1818370158731524, 0], [-5.968662535734884, 1], [0.34255859740276784, 1], [-2.175011149149658, 1], [4.917365430585192, 0], [4.69499281373383, 0], [1.329854494088666, 0], [4.440094009045139, 0], [-0.4794026972490686, 1], [0.827480082244451, 0], [1.2054125658224382, 1], [4.972024431269088, 1], [2.7529179141365785, 0], [0.49652554601870413, 0], [0.7246898720089565, 0], [0.09944866337274227, 0], [-3.5949862900978453, 1], [3.8665925672280874, 1], [1.0216434126775524, 0], [7.508892795713702, 0], [0.47013901464933094, 0], [4.459232236983201, 0], [1.779845294215077, 1], [2.6980223119966666, 0], [1.9210996723527836, 1], [1.166482758130305, 1], [4.308864818339803, 0], [4.327904033625466, 1], [3.9925845262798303, 0], [1.46393668446769, 0], [2.885569332368835, 0], [-5.067198663064087, 1], [2.7185046861672912, 1], [5.098573620293509, 0], [0.8555757902576671, 0], [3.9723459513944133, 0], [3.615322310767663, 1], [1.1843134295585687, 1], [4.0649143652115605, 0], [6.307481326268624, 0], [-3.083353898437826, 0], [1.5644550187744601, 0], [-0.7842168517519164, 1], [3.318216637043861, 0], [-1.1914173407335247, 1], [0.767871974674422, 1], [-0.4186216061464747, 1], [1.6264572625175822, 0], [5.3817980275275605, 0], [-0.968691723734179, 1], [1.6997774536393027, 0], [5.841908851186625, 0], [2.9339584847845614, 1], [-2.563432621134047, 0], [-0.18572636333862957, 1], [2.1494411974840175, 0], [-0.8500048973987229, 1], [-0.9579297213164729, 1], [0.9531475266111435, 0], [-3.566307952394656, 1], [-1.0861569609523096, 1], [-0.8752184211794417, 1], [-0.3965983510169768, 1], [1.9649288414206927, 0], [3.9706069123623613, 0], [4.710233287863777, 0], [-3.0821537836372768, 1], [4.3504673335018555, 1], [0.17313563865561044, 1], [4.41996357252226, 0], [5.886752477949212, 1], [-2.7610714481759935, 1], [1.0804951978620263, 0], [-1.409802597431057, 1], [3.3275658257360003, 0], [-1.3218471310391142, 1], [2.1890363897482024, 0], [1.7270127211608968, 0], [-6.300254622745197, 1], [-2.014477955867041, 0], [2.628041900616733, 1], [0.7998194405227188, 0], [1.345898896023776, 0], [1.366376182241103, 1], [1.7709259662430228, 0], [0.41489747760348705, 0], [-0.17059482823862737, 0], [2.0188816095036035, 0], [3.6360036782988097, 1], [-8.291087196666565, 1], [1.6447747567970452, 0], [-3.3417385286574532, 1], [1.5280907883663204, 1], [1.6696404262511093, 0], [-2.9067087912578096, 1], [0.0033710724898665667, 0], [4.010844725698379, 0], [-2.612727641824013, 1], [-1.0856866533367535, 0], [-0.09135329862515651, 1], [4.077448620099968, 0], [2.0419823602905063, 1], [2.6864769483989592, 1], [3.4293127687000737, 1], [1.316242564851474, 1], [-1.5523931628712395, 1], [-0.31905249235557953, 1], [3.6969055620021845, 1], [3.432960765099891, 0], [3.681841009894776, 0], [3.1641681620740587, 0], [0.06707813635527926, 0], [-6.992951554283538, 1], [-3.8021886828865425, 1], [-4.073443636482749, 1], [-1.1934515476866936, 1], [-2.467038688219626, 0], [-6.860841330887193, 1], [0.07823105900440752, 1], [-8.858252945338823, 1], [1.2295029661605736, 0], [0.4914031552240292, 0], [0.6776082555678498, 0], [3.0883806091228125, 0], [3.266838018051432, 0], [-1.8686574955562292, 1], [-0.671606128754862, 0], [-3.6163964804438553, 1], [2.929639090433194, 0], [0.7991973025936914, 1], [1.4679689799244635, 0], [2.7141968971551176, 0], [8.502278999537548, 1], [3.9628908093821704, 0], [-4.271411144621791, 1], [2.958619192165476, 0], [-0.3990900634056326, 1], [1.5779077677252262, 1], [1.2780287003044979, 0], [-2.659211495289163, 1], [0.27302531525405005, 0], [-1.270892163440585, 1], [-3.508841055766683, 1], [0.4043996002098069, 1], [0.05176882532535254, 0], [2.423080985961582, 0], [-3.5067666999213825, 1], [3.6609536940508325, 0], [-3.953852835080528, 1], [2.700335147126782, 0], [-1.3884233238998105, 0], [0.3407200942483233, 1], [3.396378942400645, 1], [1.3863763174116386, 0], [3.1664420311477888, 0], [2.355931483389706, 0], [2.850682688486785, 1], [1.050169294133651, 0], [4.783250368630684, 0]]\n"
     ]
    }
   ],
   "source": [
    "# In your data, \"X\" is a data point that is nothing more than\n",
    "# a single number. \n",
    "# Shuffle your data into a random order (use random.shuffle!)\n",
    "import numpy as np\n",
    "np.random.shuffle(dat)\n",
    "print(dat)\n",
    "# Fair enough"
   ]
  },
  {
   "cell_type": "code",
   "execution_count": 122,
   "metadata": {
    "autoscroll": false,
    "ein.hycell": false,
    "ein.tags": "worksheet-0",
    "slideshow": {
     "slide_type": "-"
    }
   },
   "outputs": [],
   "source": [
    "# If you shuffled your data, this test should pass\n",
    "# (i.e. not throw an error)\n",
    "\n",
    "assert(sum([label for x,label in dat[:50]]) != 0)"
   ]
  },
  {
   "cell_type": "markdown",
   "metadata": {
    "ein.tags": "worksheet-0",
    "slideshow": {
     "slide_type": "-"
    }
   },
   "source": [
    "## Problem 2.2: Splitting!"
   ]
  },
  {
   "cell_type": "code",
   "execution_count": null,
   "metadata": {
    "autoscroll": false,
    "ein.hycell": false,
    "ein.tags": "worksheet-0",
    "slideshow": {
     "slide_type": "-"
    }
   },
   "outputs": [],
   "source": [
    "# Split your data, which is now a list, into 2 sublists:\n",
    "# \"train\" and \"test\"\n",
    "# The \"train\" group should have 700 elements\n",
    "# The test group should have 300 elements\n",
    "# Each group should have the same format as the original data\n",
    "\n"
   ]
  },
  {
   "cell_type": "code",
   "execution_count": null,
   "metadata": {
    "autoscroll": false,
    "ein.hycell": false,
    "ein.tags": "worksheet-0",
    "slideshow": {
     "slide_type": "-"
    }
   },
   "outputs": [],
   "source": [
    "# Now you will need to make another split, within the groups!\n",
    "# For each group (\"train\" and \"test\") split the X's from the labels."
   ]
  },
  {
   "cell_type": "markdown",
   "metadata": {
    "ein.tags": "worksheet-0",
    "slideshow": {
     "slide_type": "-"
    }
   },
   "source": [
    "## Problem 2.3: Testing models!"
   ]
  },
  {
   "cell_type": "code",
   "execution_count": 124,
   "metadata": {
    "autoscroll": false,
    "ein.hycell": false,
    "ein.tags": "worksheet-0",
    "slideshow": {
     "slide_type": "-"
    }
   },
   "outputs": [],
   "source": [
    "# For each model: \n",
    "# 1. Create an instance the class, with constructor parameters: K=5\n",
    "# 2. Train the instance on the \"train\" groups X's and labels (y's)\n",
    "# 3. Test how well the instance does: \n",
    "#    A. Use the trained instance to predict the label of each \"X\" in the \"test\" group\n",
    "#    B. Use your \"test\" labels to see if the predicted label is equal the true label\n",
    "\n"
   ]
  },
  {
   "cell_type": "code",
   "execution_count": null,
   "metadata": {
    "autoscroll": false,
    "ein.hycell": false,
    "ein.tags": "worksheet-0",
    "slideshow": {
     "slide_type": "-"
    }
   },
   "outputs": [],
   "source": [
    "# Compare the two classes of models!"
   ]
  }
 ],
 "metadata": {
  "kernelspec": {
   "display_name": "Python 3",
   "language": "python",
   "name": "python3"
  },
  "language_info": {
   "codemirror_mode": {
    "name": "ipython",
    "version": 3
   },
   "file_extension": ".py",
   "mimetype": "text/x-python",
   "name": "python",
   "nbconvert_exporter": "python",
   "pygments_lexer": "ipython3",
   "version": "3.6.3"
  },
  "name": "Untitled.ipynb"
 },
 "nbformat": 4,
 "nbformat_minor": 2
}
